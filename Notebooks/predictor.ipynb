{
 "cells": [
  {
   "cell_type": "code",
   "execution_count": 5,
   "id": "64aef859",
   "metadata": {},
   "outputs": [],
   "source": [
    "import numpy as np\n",
    "import pandas as pd\n",
    "import pickle\n",
    "from sklearn.preprocessing import StandardScaler\n",
    "\n",
    "def predict_module(inp):\n",
    "    df_1 = pd.DataFrame(inp)\n",
    "    with open(\"one_hot_encoder.pkl\",\"rb\") as file:\n",
    "        ohe = pickle.load(file)\n",
    "    #df_1.drop([\"Location\",\"Brand\"],axis=1,inplace=True)\n",
    "    x_num = df_1.select_dtypes(exclude=[\"object\",\"category\"])\n",
    "    x_cat = df_1.select_dtypes(include=[\"object\",\"category\"])\n",
    "    x_cat = ohe.transform(x_cat)\n",
    "    df_new = pd.concat((x_num,x_cat),axis=1)\n",
    "    with open(\"scaler.pkl\",\"rb\") as file:\n",
    "        scaler = pickle.load(file)\n",
    "    df_new = scaler.transform(df_new)\n",
    "    with open(\"final_model.pkl\",\"rb\") as file:\n",
    "        model = pickle.load(file)\n",
    "    y_pred = model.predict(df_new)\n",
    "    return np.round(y_pred[0],2)"
   ]
  }
 ],
 "metadata": {
  "kernelspec": {
   "display_name": "Python 3 (ipykernel)",
   "language": "python",
   "name": "python3"
  },
  "language_info": {
   "codemirror_mode": {
    "name": "ipython",
    "version": 3
   },
   "file_extension": ".py",
   "mimetype": "text/x-python",
   "name": "python",
   "nbconvert_exporter": "python",
   "pygments_lexer": "ipython3",
   "version": "3.11.5"
  }
 },
 "nbformat": 4,
 "nbformat_minor": 5
}
